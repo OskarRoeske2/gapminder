{
 "cells": [
  {
   "cell_type": "code",
   "execution_count": 110,
   "metadata": {},
   "outputs": [],
   "source": [
    "import pandas as pd\n",
    "import numpy as np\n"
   ]
  },
  {
   "cell_type": "code",
   "execution_count": 98,
   "metadata": {},
   "outputs": [],
   "source": [
    "population_df = pd.read_csv(\"pop.csv\")\n",
    "life_expectancy_df = pd.read_csv(\"lex.csv\")\n",
    "gni_df = pd.read_csv(\"ny_gnp_pcap_pp_cd.csv\")"
   ]
  },
  {
   "cell_type": "code",
   "execution_count": 99,
   "metadata": {},
   "outputs": [
    {
     "name": "stdout",
     "output_type": "stream",
     "text": [
      "<class 'pandas.core.frame.DataFrame'>\n",
      "RangeIndex: 197 entries, 0 to 196\n",
      "Columns: 302 entries, country to 2100\n",
      "dtypes: object(302)\n",
      "memory usage: 464.9+ KB\n",
      "None\n",
      "<class 'pandas.core.frame.DataFrame'>\n",
      "RangeIndex: 196 entries, 0 to 195\n",
      "Columns: 302 entries, country to 2100\n",
      "dtypes: float64(301), object(1)\n",
      "memory usage: 462.6+ KB\n",
      "None\n",
      "<class 'pandas.core.frame.DataFrame'>\n",
      "RangeIndex: 198 entries, 0 to 197\n",
      "Data columns (total 34 columns):\n",
      " #   Column   Non-Null Count  Dtype \n",
      "---  ------   --------------  ----- \n",
      " 0   country  198 non-null    object\n",
      " 1   1990     145 non-null    object\n",
      " 2   1991     148 non-null    object\n",
      " 3   1992     152 non-null    object\n",
      " 4   1993     157 non-null    object\n",
      " 5   1994     160 non-null    object\n",
      " 6   1995     172 non-null    object\n",
      " 7   1996     173 non-null    object\n",
      " 8   1997     174 non-null    object\n",
      " 9   1998     174 non-null    object\n",
      " 10  1999     174 non-null    object\n",
      " 11  2000     181 non-null    object\n",
      " 12  2001     183 non-null    object\n",
      " 13  2002     185 non-null    object\n",
      " 14  2003     185 non-null    object\n",
      " 15  2004     185 non-null    object\n",
      " 16  2005     186 non-null    object\n",
      " 17  2006     187 non-null    object\n",
      " 18  2007     188 non-null    object\n",
      " 19  2008     189 non-null    object\n",
      " 20  2009     191 non-null    object\n",
      " 21  2010     193 non-null    object\n",
      " 22  2011     194 non-null    object\n",
      " 23  2012     192 non-null    object\n",
      " 24  2013     194 non-null    object\n",
      " 25  2014     194 non-null    object\n",
      " 26  2015     194 non-null    object\n",
      " 27  2016     193 non-null    object\n",
      " 28  2017     194 non-null    object\n",
      " 29  2018     194 non-null    object\n",
      " 30  2019     194 non-null    object\n",
      " 31  2020     193 non-null    object\n",
      " 32  2021     193 non-null    object\n",
      " 33  2022     182 non-null    object\n",
      "dtypes: object(34)\n",
      "memory usage: 52.7+ KB\n",
      "None\n"
     ]
    }
   ],
   "source": [
    "print(population_df.info())\n",
    "print(life_expectancy_df.info())\n",
    "print(gni_df.info())"
   ]
  },
  {
   "cell_type": "markdown",
   "metadata": {},
   "source": [
    "# Fill missing Values"
   ]
  },
  {
   "cell_type": "markdown",
   "metadata": {},
   "source": [
    "### population dataframe"
   ]
  },
  {
   "cell_type": "code",
   "execution_count": 100,
   "metadata": {},
   "outputs": [],
   "source": [
    "# Set 'country' as the index to avoid filling it\n",
    "population_df.set_index('country', inplace=True)\n",
    "\n",
    "# Apply forward and backward fill across each row\n",
    "population_df = population_df.apply(lambda row: row.ffill().bfill(), axis=1)\n",
    "\n",
    "# Reset the index to restore the original DataFrame structure\n",
    "population_df.reset_index(inplace=True)"
   ]
  },
  {
   "cell_type": "code",
   "execution_count": 101,
   "metadata": {},
   "outputs": [],
   "source": [
    "# Set 'country' as the index to avoid filling it\n",
    "life_expectancy_df.set_index('country', inplace=True)\n",
    "\n",
    "# Apply forward and backward fill across each row\n",
    "life_expectancy_df = life_expectancy_df.apply(lambda row: row.ffill().bfill(), axis=1)\n",
    "\n",
    "# Reset the index to restore the original DataFrame structure\n",
    "life_expectancy_df.reset_index(inplace=True)"
   ]
  },
  {
   "cell_type": "code",
   "execution_count": 102,
   "metadata": {},
   "outputs": [],
   "source": [
    "# Set 'country' as the index to avoid filling it\n",
    "gni_df.set_index('country', inplace=True)\n",
    "\n",
    "# Apply forward and backward fill across each row\n",
    "gni_df = gni_df.apply(lambda row: row.ffill().bfill(), axis=1)\n",
    "\n",
    "# Reset the index to restore the original DataFrame structure\n",
    "gni_df.reset_index(inplace=True)"
   ]
  },
  {
   "cell_type": "code",
   "execution_count": 103,
   "metadata": {},
   "outputs": [
    {
     "name": "stdout",
     "output_type": "stream",
     "text": [
      "       country   1800   1801   1802   1803   1804   1805   1806   1807   1808  \\\n",
      "0  Afghanistan  3.28M  3.28M  3.28M  3.28M  3.28M  3.28M  3.28M  3.28M  3.28M   \n",
      "\n",
      "   ...  2091  2092  2093  2094  2095  2096  2097  2098  2099  2100  \n",
      "0  ...  108M  108M  109M  109M  109M  110M  110M  110M  111M  111M  \n",
      "\n",
      "[1 rows x 302 columns]\n",
      "       country  1800  1801  1802  1803  1804  1805  1806  1807  1808  ...  \\\n",
      "0  Afghanistan  28.2  28.2  28.2  28.2  28.2  28.2  28.1  28.1  28.1  ...   \n",
      "\n",
      "   2091  2092  2093  2094  2095  2096  2097  2098  2099  2100  \n",
      "0  75.9  76.1  76.2  76.4  76.5  76.7  76.8  77.0  77.1  77.3  \n",
      "\n",
      "[1 rows x 302 columns]\n",
      "  country   1990   1991   1992   1993   1994   1995   1996   1997   1998  ...  \\\n",
      "0   Aruba  20.5k  22.2k  23.2k  24.6k  26.3k  26.9k  26.8k  28.3k  28.6k  ...   \n",
      "\n",
      "    2013   2014   2015   2016   2017 2018   2019   2020   2021   2022  \n",
      "0  34.7k  35.5k  35.8k  35.9k  36.7k  39k  40.6k  34.1k  41.6k  41.6k  \n",
      "\n",
      "[1 rows x 34 columns]\n"
     ]
    }
   ],
   "source": [
    "print(population_df.head(1))\n",
    "print(life_expectancy_df.head(1))\n",
    "print(gni_df.head(1))"
   ]
  },
  {
   "cell_type": "markdown",
   "metadata": {},
   "source": [
    "# Tidy Dataframe"
   ]
  },
  {
   "cell_type": "markdown",
   "metadata": {},
   "source": [
    "Melt the dataframes: The melt function is used to transform the data into a tidy format. The id_vars parameter specifies the columns to keep as identifiers (in this case, country). The var_name parameter specifies the name of the new \"variable\" column (in this case, year), and the value_name parameter specifies the name of the new \"value\" column (in this case, population, life_expectancy, or gni_per_capita)."
   ]
  },
  {
   "cell_type": "code",
   "execution_count": 104,
   "metadata": {},
   "outputs": [],
   "source": [
    "# Transform population data\n",
    "population_tidy = population_df.melt(id_vars=['country'], var_name='year', value_name='population')\n",
    "\n",
    "# Transform life expectancy data\n",
    "life_expectancy_tidy = life_expectancy_df.melt(id_vars=['country'], var_name='year', value_name='life_expectancy')\n",
    "\n",
    "# Transform GNI per capita data\n",
    "gni_per_capita_tidy = gni_df.melt(id_vars=['country'], var_name='year', value_name='gni')"
   ]
  },
  {
   "cell_type": "code",
   "execution_count": null,
   "metadata": {},
   "outputs": [],
   "source": []
  },
  {
   "cell_type": "code",
   "execution_count": 105,
   "metadata": {},
   "outputs": [
    {
     "name": "stdout",
     "output_type": "stream",
     "text": [
      "       country  year population\n",
      "0  Afghanistan  1800      3.28M\n",
      "1       Angola  1800      1.57M\n",
      "2      Albania  1800       400k\n",
      "3      Andorra  1800       2650\n",
      "4          UAE  1800      40.2k\n",
      "       country  year  life_expectancy\n",
      "0  Afghanistan  1800             28.2\n",
      "1       Angola  1800             27.0\n",
      "2      Albania  1800             35.4\n",
      "3      Andorra  1800             74.6\n",
      "4          UAE  1800             30.7\n",
      "       country  year    gni\n",
      "0        Aruba  1990  20.5k\n",
      "1  Afghanistan  1990   1570\n",
      "2       Angola  1990   3000\n",
      "3      Albania  1990   2550\n",
      "4          UAE  1990  98.6k\n"
     ]
    }
   ],
   "source": [
    "# Check the first few rows of each tidy dataframe\n",
    "print(population_tidy.head())\n",
    "print(life_expectancy_tidy.head())\n",
    "print(gni_per_capita_tidy.head())"
   ]
  },
  {
   "cell_type": "markdown",
   "metadata": {},
   "source": [
    "# Merge Dataframes"
   ]
  },
  {
   "cell_type": "code",
   "execution_count": 106,
   "metadata": {},
   "outputs": [],
   "source": [
    "merged_df = (population_tidy\n",
    "             .merge(life_expectancy_tidy, on=['country', 'year'], how='outer')\n",
    "             .merge(gni_per_capita_tidy, on=['country', 'year'], how='outer'))"
   ]
  },
  {
   "cell_type": "code",
   "execution_count": 107,
   "metadata": {},
   "outputs": [],
   "source": [
    "def normalize_value(value):\n",
    "    \"\"\"\n",
    "    Converts a string representation of a number with potential suffixes ('k', 'M', 'B')\n",
    "    to an integer.\n",
    "    \"\"\"\n",
    "    if isinstance(value, str):\n",
    "        if 'k' in value:\n",
    "            return int(float(value.replace('k', '')) * 1e3)\n",
    "        elif 'M' in value:\n",
    "            return int(float(value.replace('M', '')) * 1e6)\n",
    "        elif 'B' in value:\n",
    "            return int(float(value.replace('B', '')) * 1e9)\n",
    "        else:\n",
    "            return int(value)\n",
    "    return value"
   ]
  },
  {
   "cell_type": "code",
   "execution_count": 108,
   "metadata": {},
   "outputs": [],
   "source": [
    "for column in ['population', 'gni']:\n",
    "    merged_df[column] = merged_df[column].apply(normalize_value)"
   ]
  },
  {
   "cell_type": "code",
   "execution_count": 111,
   "metadata": {},
   "outputs": [],
   "source": [
    "\n",
    "merged_df['gni'] = merged_df['gni'].replace(0, np.nan)  # Replace zeros with NaN to avoid log(0)\n",
    "merged_df['gni'] = np.log(merged_df['gni']) "
   ]
  },
  {
   "cell_type": "code",
   "execution_count": 112,
   "metadata": {},
   "outputs": [
    {
     "name": "stdout",
     "output_type": "stream",
     "text": [
      "       country  year  population  life_expectancy  gni\n",
      "0  Afghanistan  1800   3280000.0             28.2  NaN\n",
      "1       Angola  1800   1570000.0             27.0  NaN\n",
      "2      Albania  1800    400000.0             35.4  NaN\n",
      "3      Andorra  1800      2650.0             74.6  NaN\n",
      "4          UAE  1800     40200.0             30.7  NaN\n"
     ]
    }
   ],
   "source": [
    "print(merged_df.head())"
   ]
  }
 ],
 "metadata": {
  "interpreter": {
   "hash": "aee8b7b246df8f9039afb4144a1f6fd8d2ca17a180786b69acc140d282b71a49"
  },
  "kernelspec": {
   "display_name": "Python 3.11.6 64-bit",
   "language": "python",
   "name": "python3"
  },
  "language_info": {
   "codemirror_mode": {
    "name": "ipython",
    "version": 3
   },
   "file_extension": ".py",
   "mimetype": "text/x-python",
   "name": "python",
   "nbconvert_exporter": "python",
   "pygments_lexer": "ipython3",
   "version": "3.11.6"
  },
  "orig_nbformat": 4
 },
 "nbformat": 4,
 "nbformat_minor": 2
}
